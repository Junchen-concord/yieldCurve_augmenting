{
 "cells": [
  {
   "cell_type": "code",
   "execution_count": 3,
   "id": "dbd3b4f8",
   "metadata": {},
   "outputs": [],
   "source": [
    "import numpy as np\n",
    "import matplotlib.pyplot as plt\n",
    "import pandas as pd"
   ]
  },
  {
   "cell_type": "code",
   "execution_count": 4,
   "id": "db2559e0",
   "metadata": {},
   "outputs": [],
   "source": [
    "def compute_daily_yield(data):\n",
    "    if data.empty:\n",
    "        return pd.Series(dtype=float)\n",
    "    total_orig = data.groupby(\"LoanID\")[\"OriginatedAmount\"].first().sum()\n",
    "    daily_paid = data.groupby(\"Days_Since_Orig\")[\"PaidOffPaymentAmount\"].sum().cumsum()\n",
    "    return daily_paid / total_orig"
   ]
  },
  {
   "cell_type": "code",
   "execution_count": 5,
   "id": "9f3538c6",
   "metadata": {},
   "outputs": [],
   "source": [
    "latest = pd.read_csv(\"/Users/starsrain/2025_concord/yieldCurve_augmenting/raw_data/yieldcurvedata_1007.csv\")\n",
    "july = pd.read_csv(\"/Users/starsrain/2025_concord/yieldCurve_augmenting/raw_data/yieldcurvedata_730.csv\")\n",
    "august = pd.read_csv(\"/Users/starsrain/2025_concord/yieldCurve_augmenting/raw_data/yieldcurvedata_820.csv\")"
   ]
  },
  {
   "cell_type": "code",
   "execution_count": 6,
   "id": "b31fbee2",
   "metadata": {},
   "outputs": [
    {
     "name": "stdout",
     "output_type": "stream",
     "text": [
      "Latest data: 437613 records, 92958 unique loans\n",
      "July data: 388277 records, 83927 unique loans\n",
      "August data: 404144 records, 87045 unique loans\n"
     ]
    }
   ],
   "source": [
    "def preprocess_data(df, name):\n",
    "    \"\"\"Preprocess yield curve data\"\"\"\n",
    "    df = df.copy()\n",
    "    df[\"OriginationDate\"] = pd.to_datetime(df[\"OriginationDate\"])\n",
    "    df = df.dropna(subset=[\"Days_Since_Orig\", \"OriginatedAmount\", \"PaidOffPaymentAmount\", \"Frequency\"])\n",
    "    df = df[df[\"PaymentStatus\"] == \"D\"]\n",
    "    df[\"Days_Since_Orig\"] = df[\"Days_Since_Orig\"].astype(int)\n",
    "    df[\"OrigMonth\"] = df[\"OriginationDate\"].dt.to_period(\"M\")\n",
    "    print(f\"{name} data: {len(df)} records, {df['LoanID'].nunique()} unique loans\")\n",
    "    return df\n",
    "\n",
    "latest = preprocess_data(latest, \"Latest\")\n",
    "july = preprocess_data(july, \"July\") \n",
    "august = preprocess_data(august, \"August\")"
   ]
  },
  {
   "cell_type": "code",
   "execution_count": 7,
   "id": "ee97f9fa",
   "metadata": {},
   "outputs": [],
   "source": [
    "months_analysis = {\n",
    "    '2024 Nov': [pd.Period('2024-11')],\n",
    "    '2024 Dec': [pd.Period('2024-12')],\n",
    "    '2025 Jan': [pd.Period('2025-01')],\n",
    "    '2025 Feb': [pd.Period('2025-02')],\n",
    "    '2025 Mar': [pd.Period('2025-03')],\n",
    "    '2025 Apr': [pd.Period('2025-04')],\n",
    "    '2025 May': [pd.Period('2025-05')],\n",
    "    '2025 Jun': [pd.Period('2025-06')],\n",
    "    '2025 Jul': [pd.Period('2025-07')],\n",
    "    '2025 Aug': [pd.Period('2025-08')],\n",
    "}\n",
    "\n",
    "# Function to get monthly data\n",
    "def get_monthly_data(df, months_list):\n",
    "    return df[df['OrigMonth'].isin(months_list)]\n",
    "\n",
    "# Colors for each month\n",
    "month_colors = {\n",
    "    '2024 Nov': 'black',\n",
    "    '2024 Dec': 'blue',\n",
    "    '2025 Jan': 'green',\n",
    "    '2025 Feb': 'red',\n",
    "    '2025 Mar': 'grey',\n",
    "    '2025 Apr': 'orange',\n",
    "    '2025 May': 'yellow',\n",
    "    '2025 Jun': 'brown',\n",
    "    '2025 Jul': 'purple',\n",
    "    '2025 Aug': 'pink'\n",
    "}"
   ]
  },
  {
   "cell_type": "code",
   "execution_count": null,
   "id": "58ea3884",
   "metadata": {},
   "outputs": [
    {
     "name": "stdout",
     "output_type": "stream",
     "text": [
      "(21559, 25)\n",
      "Index(['Application_ID', 'PortFolioID', 'LoanID', 'Frequency', 'LPCampaign',\n",
      "       'OriginatedAmount', 'OrigYear', 'OrigMonth', 'OrigWeek',\n",
      "       'OriginationDate', 'FPDFA', 'FPDAA', 'TotalRealizedPayin',\n",
      "       'InstallmentNumber', 'PaidOffPaymentAmount', 'TransactionDate',\n",
      "       'PmtYear', 'PmtMonth', 'Days_Since_Orig', 'Weeks_Since_Orig',\n",
      "       'PaymentType', 'Payment_Number', 'PaymentStatus',\n",
      "       'weeks_between_orig_now', 'CustType'],\n",
      "      dtype='object')\n"
     ]
    }
   ],
   "source": [
    "# Filter latest to January 2025 and show size (reuses your helpers)\n",
    "jan_2025 = get_monthly_data(latest, months_analysis['2025 Jan'])\n",
    "print(jan_2025.shape)  # expected: (21559, 26)\n",
    "print(jan_2025.columns)"
   ]
  },
  {
   "cell_type": "code",
   "execution_count": 10,
   "id": "a026b071",
   "metadata": {},
   "outputs": [
    {
     "data": {
      "text/plain": [
       "PaymentType\n",
       "Installment Pmt    17472\n",
       "Z                   1913\n",
       "Arr Pmt              751\n",
       "Reset Pmt            725\n",
       "Partial Pmt          496\n",
       "Delinquent Pmt       128\n",
       "3rd Party Pmt         74\n",
       "Name: count, dtype: int64"
      ]
     },
     "execution_count": 10,
     "metadata": {},
     "output_type": "execute_result"
    }
   ],
   "source": [
    "jan_2025['PaymentType'].value_counts()"
   ]
  },
  {
   "cell_type": "code",
   "execution_count": 20,
   "id": "8fe2b82c",
   "metadata": {},
   "outputs": [
    {
     "name": "stdout",
     "output_type": "stream",
     "text": [
      "jan_2025 duplicate Application_IDs: 17158\n",
      "external duplicate ApplicationIDs: 10\n"
     ]
    }
   ],
   "source": [
    "# Import external Excel and join with jan_2025 on Application ID\n",
    "excel_path = \"/Users/starsrain/2025_concord/yieldCurve_augmenting/raw_data/2025jan_yield.xlsx\"\n",
    "external_df = pd.read_excel(excel_path)\n",
    "\n",
    "# Determine right-side key name flexibly\n",
    "if \"ApplicationID\" in external_df.columns:\n",
    "    right_key = \"ApplicationID\"\n",
    "elif \"Application_Id\" in external_df.columns:\n",
    "    right_key = \"Application_Id\"\n",
    "elif \"Application_ID\" in external_df.columns:\n",
    "    right_key = \"Application_ID\"\n",
    "else:\n",
    "    raise KeyError(f\"Application ID column not found in external file. Columns: {list(external_df.columns)}\")\n",
    "# Deduplicate by Application ID on both sides and re-merge to avoid many-to-many\n",
    "# Inspect duplicates\n",
    "jan_dups = jan_2025.duplicated(subset=[\"Application_ID\"]).sum()\n",
    "ext_dups = external_df.duplicated(subset=[right_key]).sum()\n",
    "print(f\"jan_2025 duplicate Application_IDs: {jan_dups}\")\n",
    "print(f\"external duplicate {right_key}s: {ext_dups}\")"
   ]
  },
  {
   "cell_type": "code",
   "execution_count": 21,
   "id": "5effcbf6",
   "metadata": {},
   "outputs": [
    {
     "name": "stdout",
     "output_type": "stream",
     "text": [
      "jan_2025_unique rows: 4401\n",
      "external_unique rows: 588\n",
      "merged_jan_2025_unique shape: (588, 70)\n",
      "matched unique apps: 588\n"
     ]
    }
   ],
   "source": [
    "\n",
    "# Create unique-per-application views (keep first occurrence)\n",
    "jan_2025_unique = jan_2025.drop_duplicates(subset=[\"Application_ID\"], keep=\"first\").copy()\n",
    "external_unique = external_df.drop_duplicates(subset=[right_key], keep=\"first\").copy()\n",
    "\n",
    "# Coerce join keys to common type to be safe\n",
    "jan_2025_unique[\"Application_ID\"] = jan_2025_unique[\"Application_ID\"].astype(str)\n",
    "external_unique[right_key] = external_unique[right_key].astype(str)\n",
    "\n",
    "# Re-merge to get a unique-per-application merged table\n",
    "merged_jan_2025_unique = jan_2025_unique.merge(\n",
    "    external_unique,\n",
    "    left_on=\"Application_ID\",\n",
    "    right_on=right_key,\n",
    "    how=\"right\",\n",
    "    suffixes=(\"\", \"_ext\")\n",
    ")\n",
    "\n",
    "print(\"jan_2025_unique rows:\", len(jan_2025_unique))\n",
    "print(\"external_unique rows:\", len(external_unique))\n",
    "print(\"merged_jan_2025_unique shape:\", merged_jan_2025_unique.shape)\n",
    "print(\"matched unique apps:\", merged_jan_2025_unique[right_key].notna().sum())\n"
   ]
  },
  {
   "cell_type": "code",
   "execution_count": 23,
   "id": "1f55b544",
   "metadata": {},
   "outputs": [
    {
     "data": {
      "text/plain": [
       "Frequency\n",
       "W     429\n",
       "B      99\n",
       "ME      1\n",
       "Name: count, dtype: int64"
      ]
     },
     "execution_count": 23,
     "metadata": {},
     "output_type": "execute_result"
    }
   ],
   "source": [
    "merged_jan_2025_unique['Frequency'].value_counts()"
   ]
  },
  {
   "cell_type": "code",
   "execution_count": 26,
   "id": "8e7daa5a",
   "metadata": {},
   "outputs": [],
   "source": [
    "# Helper: build non-cumulative installment payin curve for a subset\n",
    "# Returns: (curve_df, loan_count, per_installment_df)\n",
    "# - curve_df columns: ['InstallmentNumber','PayinRatio'] (weighted by OriginatedAmount)\n",
    "# - per_installment_df columns include per-loan PaidThisInstallment and InstallmentPayinRatio\n",
    "\n",
    "def build_installment_non_cum_curve(df_sub: pd.DataFrame, cap: float = 1.75):\n",
    "    if df_sub.empty:\n",
    "        return pd.DataFrame(columns=['InstallmentNumber','PayinRatio']), 0, pd.DataFrame()\n",
    "\n",
    "    loan_count = df_sub['LoanID'].nunique()\n",
    "\n",
    "    per_inst = (df_sub.groupby(['LoanID', 'InstallmentNumber'], as_index=False)\n",
    "                   .agg(PaidThisInstallment=('PaidOffPaymentAmount', 'sum'),\n",
    "                        OriginatedAmount=('OriginatedAmount', 'first')))\n",
    "\n",
    "    per_inst['InstallmentPayinRatio'] = (\n",
    "        per_inst['PaidThisInstallment'] / per_inst['OriginatedAmount']\n",
    "    ).clip(upper=cap)\n",
    "\n",
    "    # Weighted average without groupby.apply (avoid FutureWarning)\n",
    "    per_inst['weighted'] = per_inst['InstallmentPayinRatio'] * per_inst['OriginatedAmount']\n",
    "    curve = (per_inst.groupby('InstallmentNumber', as_index=False)\n",
    "                    .agg(weighted_payin=('weighted', 'sum'), total_orig=('OriginatedAmount', 'sum')))\n",
    "    curve['PayinRatio'] = curve['weighted_payin'] / curve['total_orig']\n",
    "    curve = curve[['InstallmentNumber', 'PayinRatio']].sort_values('InstallmentNumber').reset_index(drop=True)\n",
    "\n",
    "    return curve, loan_count, per_inst\n"
   ]
  },
  {
   "cell_type": "markdown",
   "id": "7414546c",
   "metadata": {},
   "source": [
    "### Sanity Check (standalone run)"
   ]
  },
  {
   "cell_type": "code",
   "execution_count": 33,
   "id": "a6c4b362",
   "metadata": {},
   "outputs": [],
   "source": [
    "merged_jan_2025_unique['LoanID'].nunique()\n",
    "per_inst = (merged_jan_2025_unique.groupby(['LoanID', 'InstallmentNumber'], as_index=False)\n",
    "                   .agg(PaidThisInstallment=('PaidOffPaymentAmount', 'sum'),\n",
    "                        OriginatedAmount=('OriginatedAmount', 'first')))\n",
    "per_inst['InstallmentPayinRatio'] = (\n",
    "        per_inst['PaidThisInstallment'] / per_inst['OriginatedAmount']\n",
    "    )\n",
    "per_inst['weighted'] = per_inst['InstallmentPayinRatio'] * per_inst['OriginatedAmount']\n",
    "curve = (per_inst.groupby('InstallmentNumber', as_index=False)\n",
    "                    .agg(weighted_payin=('weighted', 'sum'), total_orig=('OriginatedAmount', 'sum')))\n",
    "curve['PayinRatio'] = curve['weighted_payin'] / curve['total_orig']\n",
    "curve = curve[['InstallmentNumber', 'PayinRatio']].sort_values('InstallmentNumber').reset_index(drop=True)"
   ]
  },
  {
   "cell_type": "code",
   "execution_count": 35,
   "id": "b135c504",
   "metadata": {},
   "outputs": [
    {
     "data": {
      "text/html": [
       "<div>\n",
       "<style scoped>\n",
       "    .dataframe tbody tr th:only-of-type {\n",
       "        vertical-align: middle;\n",
       "    }\n",
       "\n",
       "    .dataframe tbody tr th {\n",
       "        vertical-align: top;\n",
       "    }\n",
       "\n",
       "    .dataframe thead th {\n",
       "        text-align: right;\n",
       "    }\n",
       "</style>\n",
       "<table border=\"1\" class=\"dataframe\">\n",
       "  <thead>\n",
       "    <tr style=\"text-align: right;\">\n",
       "      <th></th>\n",
       "      <th>LoanID</th>\n",
       "      <th>InstallmentNumber</th>\n",
       "      <th>PaidThisInstallment</th>\n",
       "      <th>OriginatedAmount</th>\n",
       "      <th>InstallmentPayinRatio</th>\n",
       "      <th>weighted</th>\n",
       "    </tr>\n",
       "  </thead>\n",
       "  <tbody>\n",
       "    <tr>\n",
       "      <th>0</th>\n",
       "      <td>I2222172-0</td>\n",
       "      <td>1.0</td>\n",
       "      <td>65.00</td>\n",
       "      <td>700.0</td>\n",
       "      <td>0.092857</td>\n",
       "      <td>65.00</td>\n",
       "    </tr>\n",
       "    <tr>\n",
       "      <th>1</th>\n",
       "      <td>I2222186-0</td>\n",
       "      <td>2.0</td>\n",
       "      <td>222.86</td>\n",
       "      <td>200.0</td>\n",
       "      <td>1.114300</td>\n",
       "      <td>222.86</td>\n",
       "    </tr>\n",
       "    <tr>\n",
       "      <th>2</th>\n",
       "      <td>I2222214-0</td>\n",
       "      <td>1.0</td>\n",
       "      <td>15.00</td>\n",
       "      <td>200.0</td>\n",
       "      <td>0.075000</td>\n",
       "      <td>15.00</td>\n",
       "    </tr>\n",
       "    <tr>\n",
       "      <th>3</th>\n",
       "      <td>I2222228-0</td>\n",
       "      <td>2.0</td>\n",
       "      <td>80.00</td>\n",
       "      <td>400.0</td>\n",
       "      <td>0.200000</td>\n",
       "      <td>80.00</td>\n",
       "    </tr>\n",
       "    <tr>\n",
       "      <th>4</th>\n",
       "      <td>I2222235-0</td>\n",
       "      <td>1.0</td>\n",
       "      <td>225.00</td>\n",
       "      <td>1500.0</td>\n",
       "      <td>0.150000</td>\n",
       "      <td>225.00</td>\n",
       "    </tr>\n",
       "    <tr>\n",
       "      <th>5</th>\n",
       "      <td>I2222239-0</td>\n",
       "      <td>1.0</td>\n",
       "      <td>691.25</td>\n",
       "      <td>650.0</td>\n",
       "      <td>1.063462</td>\n",
       "      <td>691.25</td>\n",
       "    </tr>\n",
       "    <tr>\n",
       "      <th>6</th>\n",
       "      <td>I2222248-0</td>\n",
       "      <td>1.0</td>\n",
       "      <td>200.00</td>\n",
       "      <td>1000.0</td>\n",
       "      <td>0.200000</td>\n",
       "      <td>200.00</td>\n",
       "    </tr>\n",
       "    <tr>\n",
       "      <th>7</th>\n",
       "      <td>I2222346-0</td>\n",
       "      <td>1.0</td>\n",
       "      <td>125.00</td>\n",
       "      <td>1500.0</td>\n",
       "      <td>0.083333</td>\n",
       "      <td>125.00</td>\n",
       "    </tr>\n",
       "    <tr>\n",
       "      <th>8</th>\n",
       "      <td>I2222410-0</td>\n",
       "      <td>1.0</td>\n",
       "      <td>125.00</td>\n",
       "      <td>1500.0</td>\n",
       "      <td>0.083333</td>\n",
       "      <td>125.00</td>\n",
       "    </tr>\n",
       "    <tr>\n",
       "      <th>9</th>\n",
       "      <td>I2222513-0</td>\n",
       "      <td>2.0</td>\n",
       "      <td>80.00</td>\n",
       "      <td>400.0</td>\n",
       "      <td>0.200000</td>\n",
       "      <td>80.00</td>\n",
       "    </tr>\n",
       "  </tbody>\n",
       "</table>\n",
       "</div>"
      ],
      "text/plain": [
       "       LoanID  InstallmentNumber  PaidThisInstallment  OriginatedAmount  \\\n",
       "0  I2222172-0                1.0                65.00             700.0   \n",
       "1  I2222186-0                2.0               222.86             200.0   \n",
       "2  I2222214-0                1.0                15.00             200.0   \n",
       "3  I2222228-0                2.0                80.00             400.0   \n",
       "4  I2222235-0                1.0               225.00            1500.0   \n",
       "5  I2222239-0                1.0               691.25             650.0   \n",
       "6  I2222248-0                1.0               200.00            1000.0   \n",
       "7  I2222346-0                1.0               125.00            1500.0   \n",
       "8  I2222410-0                1.0               125.00            1500.0   \n",
       "9  I2222513-0                2.0                80.00             400.0   \n",
       "\n",
       "   InstallmentPayinRatio  weighted  \n",
       "0               0.092857     65.00  \n",
       "1               1.114300    222.86  \n",
       "2               0.075000     15.00  \n",
       "3               0.200000     80.00  \n",
       "4               0.150000    225.00  \n",
       "5               1.063462    691.25  \n",
       "6               0.200000    200.00  \n",
       "7               0.083333    125.00  \n",
       "8               0.083333    125.00  \n",
       "9               0.200000     80.00  "
      ]
     },
     "execution_count": 35,
     "metadata": {},
     "output_type": "execute_result"
    }
   ],
   "source": [
    "per_inst.head(10)"
   ]
  },
  {
   "cell_type": "markdown",
   "id": "e723bd21",
   "metadata": {},
   "source": [
    "### Plottig portion, run after sanity check"
   ]
  },
  {
   "cell_type": "code",
   "execution_count": 27,
   "id": "23940661",
   "metadata": {},
   "outputs": [
    {
     "data": {
      "image/png": "[encoded data removed]",
      "text/plain": [
       "<Figure size 2000x600 with 3 Axes>"
      ]
     },
     "metadata": {},
     "output_type": "display_data"
    }
   ],
   "source": [
    "# Payin by Installment (Non-Cumulative) — Weekly, Biweekly, Monthly (MB+ME)\n",
    "freq_groups = {\n",
    "    'Weekly': ['W'],\n",
    "    'Biweekly': ['B'],\n",
    "    'Monthly': ['MB', 'ME'],\n",
    "}\n",
    "cap = 1.75\n",
    "\n",
    "fig, axes = plt.subplots(1, 3, figsize=(20, 6))\n",
    "for idx, (title, codes) in enumerate(freq_groups.items()):\n",
    "    ax = axes[idx]\n",
    "    sub = merged_jan_2025_unique[merged_jan_2025_unique['Frequency'].isin(codes)].copy()\n",
    "\n",
    "    if sub.empty:\n",
    "        ax.set_title(f'{title} Loans — No data')\n",
    "        ax.axis('off')\n",
    "        continue\n",
    "\n",
    "    # Use helper to build curve and loan count\n",
    "    curve, loan_count, per_inst = build_installment_non_cum_curve(sub, cap=cap)\n",
    "\n",
    "    # Plot\n",
    "    ax.plot(curve['InstallmentNumber'], curve['PayinRatio'],\n",
    "            color='C0', linewidth=2, marker='o', markersize=4,\n",
    "            label=f'{title} (n={loan_count:,})', alpha=0.85)\n",
    "\n",
    "    ax.set_xlabel('Installment Number', fontsize=12)\n",
    "    ax.set_ylabel('Installment Payin Ratio', fontsize=12)\n",
    "    ax.set_title(f'{title} Loans\\nPayin by Installment (Non-Cumulative)', fontsize=14, fontweight='bold')\n",
    "    ax.grid(True, alpha=0.3)\n",
    "\n",
    "    if title == 'Weekly':\n",
    "        max_installment = 24\n",
    "    elif title == 'Biweekly':\n",
    "        max_installment = 18\n",
    "    else:\n",
    "        max_installment = 12\n",
    "\n",
    "    ax.set_xlim(0, max_installment)\n",
    "    ax.set_ylim(0.0, cap + 0.1)\n",
    "\n",
    "    expected = 1.0 / max_installment\n",
    "    ax.axhline(y=expected, color='red', linestyle='--', alpha=0.5, label=f'Expected ≈{expected:.2f}')\n",
    "\n",
    "    if title == 'Weekly':\n",
    "        ax.set_xticks(range(0, max_installment + 1, 4))\n",
    "    elif title == 'Biweekly':\n",
    "        ax.set_xticks(range(0, max_installment + 1, 3))\n",
    "    else:\n",
    "        ax.set_xticks(range(0, max_installment + 1, 2))\n",
    "\n",
    "    ax.legend(fontsize=10, loc='upper right')\n",
    "\n",
    "plt.tight_layout()\n",
    "plt.show()\n"
   ]
  }
 ],
 "metadata": {
  "kernelspec": {
   "display_name": ".venv",
   "language": "python",
   "name": "python3"
  },
  "language_info": {
   "codemirror_mode": {
    "name": "ipython",
    "version": 3
   },
   "file_extension": ".py",
   "mimetype": "text/x-python",
   "name": "python",
   "nbconvert_exporter": "python",
   "pygments_lexer": "ipython3",
   "version": "3.11.4"
  }
 },
 "nbformat": 4,
 "nbformat_minor": 5
}
