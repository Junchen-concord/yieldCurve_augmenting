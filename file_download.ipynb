{
 "cells": [
  {
   "cell_type": "code",
   "execution_count": 1,
   "id": "73a95a68",
   "metadata": {},
   "outputs": [],
   "source": [
    "# packages import\n",
    "import os, shutil\n",
    "from pathlib import Path\n",
    "from azureml.core import Workspace, Datastore, Dataset\n",
    "import itertools"
   ]
  },
  {
   "cell_type": "code",
   "execution_count": null,
   "id": "d166094a",
   "metadata": {},
   "outputs": [],
   "source": [
    "# Connect to workspace\n",
    "ws = Workspace.from_config(path=\"/Users/starsrain/2025_concord/yieldCurve_augmenting/.azureml\")"
   ]
  },
  {
   "cell_type": "code",
   "execution_count": null,
   "id": "bbcdf07c",
   "metadata": {},
   "outputs": [],
   "source": [
    "# Copy data folder from local path instead of AzureML datastore\n",
    "source_path = Path(\"/Users/amanda/payin_projection\")\n",
    "target_path = Path(\"allScored_data\")\n",
    "\n",
    "if not source_path.exists():\n",
    "    raise FileNotFoundError(f\"Source folder not found: {source_path}\")\n",
    "\n",
    "# Copy recursively; overwrite existing files if present\n",
    "shutil.copytree(source_path, target_path, dirs_exist_ok=True)\n",
    "print(f\"Folder copied to: {target_path.resolve()}\")"
   ]
  }
 ],
 "metadata": {
  "kernelspec": {
   "display_name": ".venv",
   "language": "python",
   "name": "python3"
  },
  "language_info": {
   "codemirror_mode": {
    "name": "ipython",
    "version": 3
   },
   "file_extension": ".py",
   "mimetype": "text/x-python",
   "name": "python",
   "nbconvert_exporter": "python",
   "pygments_lexer": "ipython3",
   "version": "3.11.4"
  }
 },
 "nbformat": 4,
 "nbformat_minor": 5
}
